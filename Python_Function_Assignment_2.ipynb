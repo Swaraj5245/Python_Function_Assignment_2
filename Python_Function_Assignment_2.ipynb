{
  "nbformat": 4,
  "nbformat_minor": 0,
  "metadata": {
    "colab": {
      "provenance": []
    },
    "kernelspec": {
      "name": "python3",
      "display_name": "Python 3"
    },
    "language_info": {
      "name": "python"
    }
  },
  "cells": [
    {
      "cell_type": "markdown",
      "source": [
        "## Q1. Create a python program to sort the given list of tuples based on integer value using a lambda function.\n",
        "[('Sachin Tendulkar', 34357), ('Ricky Ponting', 27483), ('Jack Kallis', 25534), ('Virat Kohli', 24936)]\n",
        "\n",
        "---"
      ],
      "metadata": {
        "id": "vW_Ao29XVKim"
      }
    },
    {
      "cell_type": "code",
      "execution_count": 28,
      "metadata": {
        "colab": {
          "base_uri": "https://localhost:8080/"
        },
        "id": "5OinOKKrVHfE",
        "outputId": "25ed7525-a849-47b4-99d2-44dd89f072d3"
      },
      "outputs": [
        {
          "output_type": "stream",
          "name": "stdout",
          "text": [
            "[('Virat Kohli', 24936), ('Jack Kallis', 25534), ('Ricky Ponting', 27483), ('Sachin Tendulkar', 34357)]\n"
          ]
        }
      ],
      "source": [
        "t=[('Sachin Tendulkar', 34357), ('Ricky Ponting', 27483), ('Jack Kallis', 25534), ('Virat Kohli', 24936)]\n",
        "t1=sorted(t,key=lambda x: x[1])\n",
        "print(t1)"
      ]
    },
    {
      "cell_type": "markdown",
      "source": [
        "## Q2. Write a Python Program to find the squares of all the numbers in the given list of integers using lambda and map functions.\n",
        "[1, 2, 3, 4, 5, 6, 7, 8, 9, 10]\n",
        "\n",
        "---"
      ],
      "metadata": {
        "id": "catSxDfCVeB4"
      }
    },
    {
      "cell_type": "code",
      "source": [
        "s=[1, 2, 3, 4, 5, 6, 7, 8, 9, 10]\n",
        "q=list(map(lambda x:x**2,s))\n",
        "print(\"Square of all the given numbers is\",q)"
      ],
      "metadata": {
        "colab": {
          "base_uri": "https://localhost:8080/"
        },
        "id": "8nDQzFYdVhtv",
        "outputId": "d5f1b1cc-510f-4ae9-f7eb-1d336a06b74c"
      },
      "execution_count": 2,
      "outputs": [
        {
          "output_type": "stream",
          "name": "stdout",
          "text": [
            "Square of all the given numbers is [1, 4, 9, 16, 25, 36, 49, 64, 81, 100]\n"
          ]
        }
      ]
    },
    {
      "cell_type": "markdown",
      "source": [
        "## Q3. Write a python program to convert the given list of integers into a tuple of strings. Use map and lambda functions  \n",
        "Given String: [1, 2, 3, 4, 5, 6, 7, 8, 9, 10]\n",
        "Expected output: ('1', '2', '3', '4', '5', '6', '7', '8', '9','10')\n",
        "\n",
        "\n",
        "---"
      ],
      "metadata": {
        "id": "Em7XJPiyVjlC"
      }
    },
    {
      "cell_type": "code",
      "source": [
        "l=[1, 2, 3, 4, 5, 6, 7, 8, 9, 10]\n",
        "l1=list(map(lambda x: str(x),l))\n",
        "tuple(l1)"
      ],
      "metadata": {
        "colab": {
          "base_uri": "https://localhost:8080/"
        },
        "id": "cV99xJ5yVsOI",
        "outputId": "bd6bd99c-0615-44a4-bd06-20c2e31b474d"
      },
      "execution_count": 5,
      "outputs": [
        {
          "output_type": "execute_result",
          "data": {
            "text/plain": [
              "('1', '2', '3', '4', '5', '6', '7', '8', '9', '10')"
            ]
          },
          "metadata": {},
          "execution_count": 5
        }
      ]
    },
    {
      "cell_type": "markdown",
      "source": [
        "## Q4. Write a python program using reduce function to compute the product of a list containing numbers from 1 to 25.\n",
        "\n",
        "-----\n"
      ],
      "metadata": {
        "id": "kzwgOwF5Vtvw"
      }
    },
    {
      "cell_type": "code",
      "source": [
        "l2=[i for i in range(1,26)]\n",
        "from functools import reduce\n",
        "reduce(lambda x,y:x*y,l2)"
      ],
      "metadata": {
        "colab": {
          "base_uri": "https://localhost:8080/"
        },
        "id": "GZUF5RjdV0IH",
        "outputId": "e76b25e8-9bfc-4f54-aa5a-38dc72104d23"
      },
      "execution_count": 9,
      "outputs": [
        {
          "output_type": "execute_result",
          "data": {
            "text/plain": [
              "15511210043330985984000000"
            ]
          },
          "metadata": {},
          "execution_count": 9
        }
      ]
    },
    {
      "cell_type": "markdown",
      "source": [
        "## Q5. Write a python program to filter the numbers in a given list that are divisible by 2 and 3 using the filter function.\n",
        "[2, 3, 6, 9, 27, 60, 90, 120, 55, 46]\n",
        "\n",
        "\n",
        "---\n"
      ],
      "metadata": {
        "id": "3VGjJvAOWJ6M"
      }
    },
    {
      "cell_type": "code",
      "source": [
        "l3=[2, 3, 6, 9, 27, 60, 90, 120, 55, 46]\n",
        "l4=filter(lambda x:(x%2==0 and x%3==0),l3)\n",
        "list(l4)"
      ],
      "metadata": {
        "colab": {
          "base_uri": "https://localhost:8080/"
        },
        "id": "_4dNjklXWRlx",
        "outputId": "44dd0bdf-82cd-4d82-a4c1-ab0a69031d10"
      },
      "execution_count": 10,
      "outputs": [
        {
          "output_type": "execute_result",
          "data": {
            "text/plain": [
              "[6, 60, 90, 120]"
            ]
          },
          "metadata": {},
          "execution_count": 10
        }
      ]
    },
    {
      "cell_type": "markdown",
      "source": [
        "## Q6. Write a python program to find palindromes in the given list of strings using lambda and filter function.\n",
        "['python', 'php', 'aba', 'radar', 'level']\n",
        "\n",
        "\n",
        "---"
      ],
      "metadata": {
        "id": "VHm8ex5JWS46"
      }
    },
    {
      "cell_type": "code",
      "source": [
        "l5=['python', 'php', 'aba', 'radar', 'level']\n",
        "l6=filter(lambda x:x==x[::-1],l5)\n",
        "list(l6)"
      ],
      "metadata": {
        "colab": {
          "base_uri": "https://localhost:8080/"
        },
        "id": "cWqk5cjbWZMG",
        "outputId": "25e22990-66ba-4868-f344-00da50715628"
      },
      "execution_count": 11,
      "outputs": [
        {
          "output_type": "execute_result",
          "data": {
            "text/plain": [
              "['php', 'aba', 'radar', 'level']"
            ]
          },
          "metadata": {},
          "execution_count": 11
        }
      ]
    }
  ]
}